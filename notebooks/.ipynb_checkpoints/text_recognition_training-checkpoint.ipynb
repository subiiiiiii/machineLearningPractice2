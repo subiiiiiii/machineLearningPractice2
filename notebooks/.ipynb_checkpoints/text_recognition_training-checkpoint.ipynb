{
 "cells": [
  {
   "cell_type": "code",
   "execution_count": null,
   "metadata": {},
   "outputs": [],
   "source": [
    "import tensorflow as tf\n",
    "from tensorflow.keras.layers import Input, Conv2D, MaxPooling2D, Reshape, Dense, GRU\n",
    "from tensorflow.keras.models import Model\n",
    "from tensorflow.keras.layers import Bidirectional\n",
    "\n",
    "def crnn_model(input_shape=(32, 128, 1), num_classes=26):\n",
    "    inputs = Input(shape=input_shape)\n",
    "\n",
    "    x = Conv2D(32, (3, 3), activation='relu', padding='same')(inputs)\n",
    "    x = MaxPooling2D((2, 2))(x)\n",
    "    x = Conv2D(64, (3, 3), activation='relu', padding='same')(x)\n",
    "    x = MaxPooling2D((2, 2))(x)\n",
    "    x = Reshape(target_shape=(-1, 64))(x)\n",
    "\n",
    "    x = Bidirectional(GRU(128, return_sequences=True))(x)\n",
    "    x = Bidirectional(GRU(128, return_sequences=True))(x)\n",
    "    x = Dense(num_classes, activation='softmax')(x)\n",
    "\n",
    "    model = Model(inputs, x)\n",
    "    return model\n",
    "\n",
    "model = crnn_model()\n",
    "model.compile(optimizer='adam', loss='categorical_crossentropy', metrics=['accuracy'])\n",
    "model.summary()\n",
    "\n",
    "# Example of training the model (dummy data)\n",
    "# Replace X_train and y_train with your actual dataset\n",
    "X_train = np.random.rand(10, 32, 128, 1)\n",
    "y_train = np.random.rand(10, 32, 26)\n",
    "model.fit(X_train, y_train, epochs=10, batch_size=2)\n",
    "\n",
    "# Save the model\n",
    "model.save('../models/text_recognition_model.h5')\n"
   ]
  }
 ],
 "metadata": {
  "language_info": {
   "name": "python"
  }
 },
 "nbformat": 4,
 "nbformat_minor": 2
}
