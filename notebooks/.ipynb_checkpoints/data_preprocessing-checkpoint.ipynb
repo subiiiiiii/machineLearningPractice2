{
 "cells": [
  {
   "cell_type": "code",
   "execution_count": null,
   "metadata": {},
   "outputs": [],
   "source": [
    "import os\n",
    "import cv2\n",
    "import numpy as np\n",
    "import matplotlib.pyplot as plt\n",
    "from tensorflow.keras.preprocessing.image import ImageDataGenerator\n",
    "\n",
    "# Create directories for the dataset\n",
    "os.makedirs('data/images', exist_ok=True)\n",
    "os.makedirs('data/annotations', exist_ok=True)\n",
    "\n",
    "# Function to preprocess the images\n",
    "def preprocess_image(image_path):\n",
    "    image = cv2.imread(image_path)\n",
    "    image = cv2.cvtColor(image, cv2.COLOR_BGR2RGB)\n",
    "    image = cv2.resize(image, (256, 256))\n",
    "    return image\n",
    "\n",
    "# Example of loading and preprocessing an image\n",
    "sample_image_path = 'data/images/sample_image.jpg'  # Replace with your image path\n",
    "preprocessed_image = preprocess_image(sample_image_path)\n",
    "plt.imshow(preprocessed_image)\n",
    "plt.show()\n",
    "\n",
    "# Data augmentation\n",
    "datagen = ImageDataGenerator(\n",
    "    rotation_range=10,\n",
    "    zoom_range=0.1,\n",
    "    width_shift_range=0.1,\n",
    "    height_shift_range=0.1,\n",
    "    shear_range=0.1,\n",
    "    horizontal_flip=True,\n",
    "    fill_mode='nearest'\n",
    ")\n",
    "\n",
    "# Example of augmenting an image\n",
    "sample_image = np.expand_dims(preprocessed_image, 0)\n",
    "augmented_images = [datagen.flow(sample_image, batch_size=1).next()[0].astype(np.uint8) for i in range(5)]\n",
    "\n",
    "fig, axes = plt.subplots(1, 5, figsize=(15, 5))\n",
    "for img, ax in zip(augmented_images, axes):\n",
    "    ax.imshow(img)\n",
    "    ax.axis('off')\n",
    "plt.show()\n"
   ]
  }
 ],
 "metadata": {
  "language_info": {
   "name": "python"
  }
 },
 "nbformat": 4,
 "nbformat_minor": 2
}
