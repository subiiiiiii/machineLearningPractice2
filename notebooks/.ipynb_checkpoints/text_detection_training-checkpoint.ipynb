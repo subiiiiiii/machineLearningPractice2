{
 "cells": [
  {
   "cell_type": "code",
   "execution_count": null,
   "metadata": {},
   "outputs": [],
   "source": [
    "import tensorflow as tf\n",
    "from tensorflow.keras.applications import VGG16\n",
    "from tensorflow.keras.layers import Conv2D, UpSampling2D, Concatenate\n",
    "from tensorflow.keras.models import Model\n",
    "\n",
    "def east_model(input_shape=(256, 256, 3)):\n",
    "    base_model = VGG16(weights='imagenet', include_top=False, input_shape=input_shape)\n",
    "    x = base_model.get_layer('block5_conv3').output\n",
    "\n",
    "    # Add extra layers for feature extraction\n",
    "    x = Conv2D(128, (1, 1), activation='relu')(x)\n",
    "    x = UpSampling2D((2, 2))(x)\n",
    "    x = Concatenate()([x, base_model.get_layer('block4_conv3').output])\n",
    "    x = Conv2D(64, (3, 3), activation='relu', padding='same')(x)\n",
    "    x = UpSampling2D((2, 2))(x)\n",
    "    x = Concatenate()([x, base_model.get_layer('block3_conv3').output])\n",
    "    x = Conv2D(32, (3, 3), activation='relu', padding='same')(x)\n",
    "    x = UpSampling2D((2, 2))(x)\n",
    "    x = Concatenate()([x, base_model.get_layer('block2_conv2').output])\n",
    "    x = Conv2D(16, (3, 3), activation='relu', padding='same')(x)\n",
    "    x = UpSampling2D((2, 2))(x)\n",
    "    x = Concatenate()([x, base_model.get_layer('block1_conv2').output])\n",
    "    x = Conv2D(1, (1, 1), activation='sigmoid')(x)\n",
    "\n",
    "    model = Model(inputs=base_model.input, outputs=x)\n",
    "    return model\n",
    "\n",
    "model = east_model()\n",
    "model.compile(optimizer='adam', loss='binary_crossentropy', metrics=['accuracy'])\n",
    "model.summary()\n",
    "\n",
    "# Example of training the model (dummy data)\n",
    "# Replace X_train and y_train with your actual dataset\n",
    "X_train = np.random.rand(10, 256, 256, 3)\n",
    "y_train = np.random.rand(10, 256, 256, 1)\n",
    "model.fit(X_train, y_train, epochs=10, batch_size=2)\n",
    "\n",
    "# Save the model\n",
    "model.save('../models/text_detection_model.h5')\n"
   ]
  }
 ],
 "metadata": {
  "language_info": {
   "name": "python"
  }
 },
 "nbformat": 4,
 "nbformat_minor": 2
}
